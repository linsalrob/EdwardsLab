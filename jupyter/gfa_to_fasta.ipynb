{
 "cells": [
  {
   "cell_type": "code",
   "execution_count": 13,
   "metadata": {
    "collapsed": true
   },
   "outputs": [],
   "source": [
    "import os\n",
    "import sys"
   ]
  },
  {
   "cell_type": "code",
   "execution_count": 3,
   "metadata": {
    "pycharm": {
     "name": "#%%\n"
    }
   },
   "outputs": [
    {
     "name": "stdout",
     "output_type": "stream",
     "text": [
      "seq_1\t1991367\n",
      "seq_2\t1917636\n",
      "seq_3\t1566043\n",
      "seq_4\t36676\n",
      "seq_5\t2938\n",
      "seq_6\t1342\n",
      "seq_7\t761\n",
      "seq_8\t588\n",
      "seq_9\t354\n",
      "seq_10\t316\n",
      "seq_11\t208\n",
      "seq_12\t202\n",
      "seq_13\t189\n",
      "seq_14\t149\n",
      "seq_15\t148\n",
      "seq_16\t129\n",
      "seq_17\t123\n",
      "seq_18\t121\n",
      "seq_19\t118\n",
      "seq_20\t108\n",
      "seq_21\t52\n",
      "seq_22\t51\n",
      "seq_23\t42\n",
      "seq_24\t39\n",
      "seq_25\t39\n",
      "seq_26\t36\n",
      "seq_27\t35\n",
      "seq_28\t34\n",
      "seq_29\t24\n",
      "seq_30\t20\n",
      "seq_31\t17\n",
      "seq_32\t14\n",
      "seq_33\t12\n",
      "seq_34\t10\n",
      "seq_35\t8\n",
      "seq_36\t2\n",
      "seq_37\t1\n"
     ]
    }
   ],
   "source": [
    "fname = 'C:\\\\Users\\edwa0468\\Downloads\\ED287_S7_assembly.gfa'\n",
    "oname = 'C:\\\\Users\\edwa0468\\Downloads\\ED287_S7_assembly.fasta'\n",
    "with open(fname, 'r') as f:\n",
    "    with open(oname, 'w') as out:\n",
    "        for l in f:\n",
    "            p = l.strip().split(\"\\t\")\n",
    "            if p[0] == \"S\":\n",
    "                out.write(f\">seq_{p[1]}\\n{p[2]}\\n\")\n",
    "                print(f\"seq_{p[1]}\\t{len(p[2])}\")"
   ]
  }
 ],
 "metadata": {
  "kernelspec": {
   "display_name": "Python 3",
   "language": "python",
   "name": "python3"
  },
  "language_info": {
   "codemirror_mode": {
    "name": "ipython",
    "version": 3
   },
   "file_extension": ".py",
   "mimetype": "text/x-python",
   "name": "python",
   "nbconvert_exporter": "python",
   "pygments_lexer": "ipython3",
   "version": "3.8.6"
  }
 },
 "nbformat": 4,
 "nbformat_minor": 1
}
