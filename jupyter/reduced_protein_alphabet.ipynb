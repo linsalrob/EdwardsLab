{
 "cells": [
  {
   "cell_type": "code",
   "execution_count": 2,
   "id": "c72a466e",
   "metadata": {},
   "outputs": [],
   "source": [
    "def prot2codon(protSeq):\n",
    "    \"\"\"\n",
    "    This was provided by Mike Roach and is a simple way to reduce the alphabet\n",
    "    \n",
    "    Convert protein seq to a simplified codon seq for use in mash\n",
    "        - collapse similar amino acids (BLOSUM45 - log odds >= 2)\n",
    "        - convert to codons\n",
    "    :param protSeq: protein sequence\n",
    "    :return: codon sequence\n",
    "    \"\"\"\n",
    "    protein2simpleProtein = {\"R\": \"K\",\n",
    "                             \"D\": \"N\",\n",
    "                             \"E\": \"Q\",\n",
    "                             \"H\": \"Y\",\n",
    "                             \"V\": \"I\",\n",
    "                             \"L\": \"I\",\n",
    "                             \"M\": \"I\",\n",
    "                             \"F\": \"Y\",\n",
    "                             \"S\": \"T\"}\n",
    "    sProt2codon = {\"A\": \"GCT\",\n",
    "                   \"N\": \"AAC\",\n",
    "                   \"C\": \"TGT\",\n",
    "                   \"Q\": \"CAG\",\n",
    "                   \"G\": \"GGT\",\n",
    "                   \"I\": \"ATT\",\n",
    "                   \"K\": \"AAG\",\n",
    "                   \"P\": \"CCT\",\n",
    "                   \"T\": \"ACT\",\n",
    "                   \"W\": \"TGG\",\n",
    "                   \"Y\": \"TAT\"}\n",
    "    s = list(protSeq)\n",
    "    s = [protein2simpleProtein.get(i,i) for i in s]\n",
    "    s = ''.join([sProt2codon.get(i,i) for i in s]) + 'TAG'\n",
    "    return s"
   ]
  },
  {
   "cell_type": "code",
   "execution_count": 3,
   "id": "16a0d57d",
   "metadata": {},
   "outputs": [
    {
     "data": {
      "text/plain": [
       "{'A': 'GCT',\n",
       " 'N': 'AAC',\n",
       " 'C': 'TGT',\n",
       " 'Q': 'CAG',\n",
       " 'G': 'GGT',\n",
       " 'I': 'ATT',\n",
       " 'K': 'AAG',\n",
       " 'P': 'CCT',\n",
       " 'T': 'ACT',\n",
       " 'W': 'TGG',\n",
       " 'Y': 'TAT',\n",
       " 'R': 'AAG',\n",
       " 'D': 'AAC',\n",
       " 'E': 'CAG',\n",
       " 'H': 'TAT',\n",
       " 'V': 'ATT',\n",
       " 'L': 'ATT',\n",
       " 'M': 'ATT',\n",
       " 'F': 'TAT',\n",
       " 'S': 'ACT'}"
      ]
     },
     "execution_count": 3,
     "metadata": {},
     "output_type": "execute_result"
    }
   ],
   "source": [
    "protein2simpleProtein = {\"R\": \"K\",\n",
    "                         \"D\": \"N\",\n",
    "                         \"E\": \"Q\",\n",
    "                         \"H\": \"Y\",\n",
    "                         \"V\": \"I\",\n",
    "                         \"L\": \"I\",\n",
    "                         \"M\": \"I\",\n",
    "                         \"F\": \"Y\",\n",
    "                         \"S\": \"T\"}\n",
    "sProt2codon = {\"A\": \"GCT\",\n",
    "               \"N\": \"AAC\",\n",
    "               \"C\": \"TGT\",\n",
    "               \"Q\": \"CAG\",\n",
    "               \"G\": \"GGT\",\n",
    "               \"I\": \"ATT\",\n",
    "               \"K\": \"AAG\",\n",
    "               \"P\": \"CCT\",\n",
    "               \"T\": \"ACT\",\n",
    "               \"W\": \"TGG\",\n",
    "               \"Y\": \"TAT\"}\n",
    "\n",
    "# combine these into a single list\n",
    "\n",
    "allCodons = {x : sProt2codon[x] for x in sProt2codon}\n",
    "[allCodons.update({x : sProt2codon[protein2simpleProtein[x]]}) for x in protein2simpleProtein]\n",
    "allCodons"
   ]
  },
  {
   "cell_type": "code",
   "execution_count": null,
   "id": "d90974b6",
   "metadata": {},
   "outputs": [],
   "source": []
  }
 ],
 "metadata": {
  "kernelspec": {
   "display_name": "Python 3",
   "language": "python",
   "name": "python3"
  },
  "language_info": {
   "codemirror_mode": {
    "name": "ipython",
    "version": 3
   },
   "file_extension": ".py",
   "mimetype": "text/x-python",
   "name": "python",
   "nbconvert_exporter": "python",
   "pygments_lexer": "ipython3",
   "version": "3.8.10"
  }
 },
 "nbformat": 4,
 "nbformat_minor": 5
}
