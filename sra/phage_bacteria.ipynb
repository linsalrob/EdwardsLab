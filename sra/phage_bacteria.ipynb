{
 "metadata": {
  "name": "",
  "pycharm": {
   "stem_cell": {
    "cell_type": "raw",
    "source": [],
    "metadata": {
     "collapsed": false
    }
   }
  }
 },
 "nbformat": 3,
 "nbformat_minor": 0,
 "worksheets": [
  {
   "cells": [
    {
     "cell_type": "code",
     "collapsed": false,
     "input": [
      "# import everything\n",
      "\n",
      "import os\n",
      "import random\n",
      "import sys\n",
      "import gzip\n",
      "\n",
      "import matplotlib.lines\n",
      "import matplotlib.colors\n",
      "import matplotlib.pyplot as plt\n",
      "from mpl_toolkits.mplot3d import Axes3D"
     ],
     "language": "python",
     "metadata": {},
     "outputs": [],
     "prompt_number": 1
    },
    {
     "cell_type": "code",
     "collapsed": false,
     "input": [
      "# read the gziped files\n",
      "\n",
      "explib = {}\n",
      "with gzip.open('run_accession-experiment_lib.tsv.gz', 'r') as f:\n",
      "    for l in f:\n",
      "        p = l.strip().split(\"\\t\")\n",
      "        if len(p) == 1:\n",
      "            p.append('OTHER')\n",
      "        explib[p[0]] = p[1]"
     ],
     "language": "python",
     "metadata": {},
     "outputs": [],
     "prompt_number": 2
    },
    {
     "cell_type": "code",
     "collapsed": false,
     "input": [
      "# Read SRA.partie, Kate's file\n",
      "# data is in these columns: \n",
      "#    0: SRA id (needs to have .sra removed)\n",
      "#    1: title (percent unique kmer)\n",
      "#    2: percent unique kmer\n",
      "#    3: title (percent 16S)\n",
      "#    4: percent 16S\n",
      "#    5: title (percent PHAGE)\n",
      "#    6: percent PHAGE\n",
      "#    7: title (percent PROKARYOTE)\n",
      "#    8: percent PROKARYOTE\n",
      "\n",
      "data = {}\n",
      "experimentlibraries = {}\n",
      "with gzip.open('SRA.partie.tsv.gz', 'r') as f:\n",
      "    for l in f:\n",
      "        p = l.strip().split(\"\\t\")\n",
      "        # data is unique kmers, percent 16S, percent phage, percent prok, percent prok + phage\n",
      "        p[0] = p[0].replace('.sra', '')\n",
      "        data[p[0]] = [float(p[2]), float(p[4]), float(p[6]), float(p[8]), float(p[6]) + float(p[8])]\n",
      "        if p[0] in explib:\n",
      "            if explib[p[0]] in experimentlibraries:\n",
      "                experimentlibraries[explib[p[0]]].append(p[0])\n",
      "            else:\n",
      "                experimentlibraries[explib[p[0]]] = [p[0]]\n",
      "        else:\n",
      "            sys.stderr.write(\"No \" + p[0] + \" in exp\\n\")\n"
     ],
     "language": "python",
     "metadata": {},
     "outputs": [],
     "prompt_number": 3
    },
    {
     "cell_type": "code",
     "collapsed": false,
     "input": [
      "# initiate the figure\n",
      "allcolors = ['indigo', 'gold', 'hotpink', 'firebrick', 'indianred', 'yellow',\n",
      "             'mistyrose', 'olive', 'pink', 'tomato', 'orangered', 'navajowhite', 'lime', 'palegreen', 'greenyellow',\n",
      "             'burlywood', 'seashell', 'mediumspringgreen', 'fuchsia', 'papayawhip', 'blanchedalmond', 'chartreuse',\n",
      "             'dimgray', 'black', 'peachpuff', 'springgreen', 'aquamarine', 'white', 'orange', 'brown', 'ivory',\n",
      "             'dodgerblue', 'peru', 'lawngreen', 'chocolate', 'crimson', 'forestgreen', 'slateblue', 'cyan',\n",
      "             'mintcream', 'silver', 'antiquewhite', 'mediumorchid', 'skyblue', 'gray', 'goldenrod', 'floralwhite',\n",
      "             'moccasin', 'saddlebrown', 'grey', 'mediumvioletred', 'slategrey', 'red', 'deeppink', 'limegreen',\n",
      "             'palegoldenrod', 'plum', 'turquoise', 'lavender', 'maroon', 'yellowgreen', 'sandybrown', 'thistle',\n",
      "             'violet', 'navy', 'magenta', 'dimgrey', 'tan', 'rosybrown', 'olivedrab', 'blue', 'ghostwhite',\n",
      "             'honeydew', 'cornflowerblue', 'linen', 'powderblue', 'seagreen', 'snow', 'sienna', 'mediumblue',\n",
      "             'royalblue', 'green', 'mediumpurple', 'midnightblue', 'cornsilk', 'paleturquoise', 'bisque',\n",
      "             'slategray', 'khaki', 'wheat', 'teal', 'deepskyblue', 'salmon', 'steelblue', 'palevioletred',\n",
      "             'aliceblue', 'orchid', 'gainsboro', 'mediumseagreen', 'mediumturquoise', 'lemonchiffon', 'cadetblue',\n",
      "             'lavenderblush', 'coral', 'purple', 'aqua', 'whitesmoke', 'mediumslateblue', 'mediumaquamarine',\n",
      "             'beige', 'blueviolet', 'azure', 'oldlace']\n",
      "\n",
      "fig = plt.figure()\n",
      "ax = fig.add_subplot(111)\n",
      "labels = {}\n"
     ],
     "language": "python",
     "metadata": {},
     "outputs": [],
     "prompt_number": 4
    },
    {
     "cell_type": "code",
     "collapsed": false,
     "input": [
      "# plot the scatter plot\n",
      "# data is unique kmers, percent 16S, percent phage, percent prok, percent prok + phage\n",
      "\n",
      "for e in ['WGS', 'AMPLICON', 'CLONE', 'OTHER', 'RNA-Seq', 'WGA']:\n",
      "    col = allcolors.pop(0)\n",
      "    print(e + \"\\t\" + str(len(experimentlibraries[e])))\n",
      "\n",
      "    prok = []\n",
      "    phage = []\n",
      "    labels[col] = e\n",
      "\n",
      "    for i in range(1000):\n",
      "        r = random.randint(0, len(experimentlibraries[e]) - 1)\n",
      "        prok.append(data[experimentlibraries[e][r]][3])\n",
      "        phage.append(data[experimentlibraries[e][r]][2])\n",
      "\n",
      "    ax.scatter(phage, prok, label=e, c=col)\n"
     ],
     "language": "python",
     "metadata": {},
     "outputs": [
      {
       "output_type": "stream",
       "stream": "stdout",
       "text": [
        "WGS\t44651\n",
        "AMPLICON\t160247\n",
        "CLONE\t407\n",
        "OTHER\t6720"
       ]
      },
      {
       "output_type": "stream",
       "stream": "stdout",
       "text": [
        "\n",
        "RNA-Seq\t2525\n",
        "WGA\t1265\n"
       ]
      }
     ],
     "prompt_number": 5
    },
    {
     "cell_type": "code",
     "collapsed": false,
     "input": [
      "# generate the legend\n",
      "# this is to get the legend on a 3D plot\n",
      "scatterproxy = []\n",
      "labeltexts = []\n",
      "for color in labels:\n",
      "    scatterproxy.append(matplotlib.lines.Line2D([0], [0], linestyle=\"none\", c=color, marker='o'))\n",
      "    labeltexts.append(labels[color])\n",
      "\n",
      "ax.legend(scatterproxy, labeltexts, numpoints=1)"
     ],
     "language": "python",
     "metadata": {},
     "outputs": [
      {
       "metadata": {},
       "output_type": "pyout",
       "prompt_number": 6,
       "text": [
        "<matplotlib.legend.Legend at 0x7f1e08c5b8d0>"
       ]
      }
     ],
     "prompt_number": 6
    },
    {
     "cell_type": "code",
     "collapsed": false,
     "input": [
      "# show the figure\n",
      "ax.set_xlabel('Percent phage')\n",
      "ax.set_ylabel('Percent prokaryote')\n",
      "ax.set_ylim([0,100])\n",
      "ax.set_xlim([0, 100])\n",
      "plt.show()"
     ],
     "language": "python",
     "metadata": {},
     "outputs": [],
     "prompt_number": 7
    },
    {
     "cell_type": "code",
     "collapsed": false,
     "input": [],
     "language": "python",
     "metadata": {},
     "outputs": []
    }
   ],
   "metadata": {}
  }
 ],
 "cells": [
  {
   "cell_type": "code",
   "execution_count": null,
   "outputs": [],
   "source": [
    "print(\"Hello\")\n"
   ],
   "metadata": {
    "collapsed": false,
    "pycharm": {
     "name": "#%%\n"
    }
   }
  }
 ]
}